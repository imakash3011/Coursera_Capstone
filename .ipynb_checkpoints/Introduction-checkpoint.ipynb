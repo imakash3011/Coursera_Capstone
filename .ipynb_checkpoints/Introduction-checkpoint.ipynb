{
 "cells": [
  {
   "cell_type": "markdown",
   "metadata": {},
   "source": [
    "##### Introduction"
   ]
  },
  {
   "cell_type": "markdown",
   "metadata": {},
   "source": [
    "In this section we are going to discuss about the restaurant in Agra."
   ]
  },
  {
   "cell_type": "markdown",
   "metadata": {},
   "source": [
    "Agra is a city on the banks of the Yamuna river in the Agra district of the Indian state of Uttar Pradesh.It is 206 kilometres south of the national capital New Delhi. Agra is the fourth-most populous city in Uttar Pradesh and 24th in India."
   ]
  },
  {
   "cell_type": "markdown",
   "metadata": {},
   "source": [
    "Agra is a major tourist destination because of its many Mughal-era buildings, most notably the Taj Mahal, Agra Fort and Fatehpur Sikri, all of which are UNESCO World Heritage Sites.\n"
   ]
  },
  {
   "cell_type": "markdown",
   "metadata": {},
   "source": [
    "As of the 2011 India census, Agra city has a population of 1,585,704, while the population of Agra cantonment is 53,053. \n",
    "The urban agglomeration of Agra has a population of 1,760,285. Males constitute 53% of the population and females 47%. "
   ]
  },
  {
   "cell_type": "markdown",
   "metadata": {},
   "source": [
    "Agra city has an average literacy rate of 73%, below the national average of 74%. Literacy rate of males is considerably higher than that of women."
   ]
  },
  {
   "cell_type": "markdown",
   "metadata": {},
   "source": [
    "There are many restaurants in Agra City, each belonging to different categories like Chinese , Italian , French etc. So as part of this project , we will list and visualize all major parts of New Delhi City ."
   ]
  },
  {
   "cell_type": "markdown",
   "metadata": {},
   "source": [
    "By using this data we will find the best insights that are hidden behind \n",
    "the data. we will also visualize the data using the different python library."
   ]
  },
  {
   "cell_type": "code",
   "execution_count": null,
   "metadata": {},
   "outputs": [],
   "source": []
  }
 ],
 "metadata": {
  "kernelspec": {
   "display_name": "Python 3",
   "language": "python",
   "name": "python3"
  },
  "language_info": {
   "codemirror_mode": {
    "name": "ipython",
    "version": 3
   },
   "file_extension": ".py",
   "mimetype": "text/x-python",
   "name": "python",
   "nbconvert_exporter": "python",
   "pygments_lexer": "ipython3",
   "version": "3.7.6"
  }
 },
 "nbformat": 4,
 "nbformat_minor": 4
}
