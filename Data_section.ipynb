{
 "cells": [
  {
   "cell_type": "markdown",
   "metadata": {},
   "source": [
    "###### data section"
   ]
  },
  {
   "cell_type": "markdown",
   "metadata": {},
   "source": [
    "We really become happy when we get the good quality food in a restaurants.So i would like help everyone to get the best restaurant in their area using data science and machine learning."
   ]
  },
  {
   "cell_type": "markdown",
   "metadata": {},
   "source": [
    "###### Description"
   ]
  },
  {
   "cell_type": "markdown",
   "metadata": {},
   "source": [
    "By using foursqaure api here we are going to locate the best resturants in Delhi."
   ]
  },
  {
   "cell_type": "markdown",
   "metadata": {},
   "source": [
    "So anybody from all round the delhi can find the best resturants in their locality based on the location (in a particular range)."
   ]
  },
  {
   "cell_type": "markdown",
   "metadata": {},
   "source": [
    "In this problem we are going to use the Zomato retaurants data which contains\n",
    "resturants name,rating with their latitude and longitude. As this much detail will help us to properly analyse location and their neighborhood."
   ]
  },
  {
   "cell_type": "markdown",
   "metadata": {},
   "source": [
    "we can download the dataset for this project from kaggle as this dataset will help\n",
    "us to analyse the dataset and get the best resturant in a particular locality.\n"
   ]
  },
  {
   "cell_type": "markdown",
   "metadata": {},
   "source": [
    "By using the foursquare we can get all the venues in every neighborhood which will help us to get the best resturants in a locality"
   ]
  },
  {
   "cell_type": "markdown",
   "metadata": {},
   "source": [
    "Link to download dataset : https://www.kaggle.com/shrutimehta/zomato-restaurants-data"
   ]
  },
  {
   "cell_type": "code",
   "execution_count": null,
   "metadata": {},
   "outputs": [],
   "source": []
  }
 ],
 "metadata": {
  "kernelspec": {
   "display_name": "Python 3",
   "language": "python",
   "name": "python3"
  },
  "language_info": {
   "codemirror_mode": {
    "name": "ipython",
    "version": 3
   },
   "file_extension": ".py",
   "mimetype": "text/x-python",
   "name": "python",
   "nbconvert_exporter": "python",
   "pygments_lexer": "ipython3",
   "version": "3.7.6"
  }
 },
 "nbformat": 4,
 "nbformat_minor": 4
}
