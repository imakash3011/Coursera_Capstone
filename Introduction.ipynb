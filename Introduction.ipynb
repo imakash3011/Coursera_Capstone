{
 "cells": [
  {
   "cell_type": "markdown",
   "metadata": {},
   "source": [
    "##### Introduction"
   ]
  },
  {
   "cell_type": "markdown",
   "metadata": {},
   "source": [
    "In this section we are going to discuss about the resturant in New Delhi."
   ]
  },
  {
   "cell_type": "markdown",
   "metadata": {},
   "source": [
    "New delhi is highly populated are as it have a huge population where worker/vendors etc \n",
    "come from all around to world to earn money. New Delhi is capital of India, and \n",
    "the thousands of resturants everywhere, so here we will try to figure out the\n",
    "best resturant in a locality based on its rating and location."
   ]
  },
  {
   "cell_type": "markdown",
   "metadata": {},
   "source": [
    "However, the much larger metro area has a population that exceeds 26 million. New Delhi are used interchangeably to refer to the National Capital Territory of Delhi (NCT), these are two distinct entities, with New Delhi forming a small part of Delhi."
   ]
  },
  {
   "cell_type": "markdown",
   "metadata": {},
   "source": [
    "The National Capital Region is a much larger entity comprising the entire NCT along with adjoining districts in neighboring states. The official language of New Delhi and the one that is most widely spoken is Hindi."
   ]
  },
  {
   "cell_type": "markdown",
   "metadata": {},
   "source": [
    "However, English is also spoken as a formal language within businesses and government agencies. Over last decades it is continuously grow because of the city’s important role in government and commercial business. With it’s diverse culture , comes diverse food items. "
   ]
  },
  {
   "cell_type": "markdown",
   "metadata": {},
   "source": [
    "There are many restaurants in New Delhi City, each belonging to different categories like Chinese , Italian , French etc. So as part of this project , we will list and visualize all major parts of New Delhi City ."
   ]
  },
  {
   "cell_type": "markdown",
   "metadata": {},
   "source": [
    "By using this data we will find the best insights that are hidden behind \n",
    "the data. we will also visualize the data using the different python library."
   ]
  },
  {
   "cell_type": "code",
   "execution_count": null,
   "metadata": {},
   "outputs": [],
   "source": []
  }
 ],
 "metadata": {
  "kernelspec": {
   "display_name": "Python 3",
   "language": "python",
   "name": "python3"
  },
  "language_info": {
   "codemirror_mode": {
    "name": "ipython",
    "version": 3
   },
   "file_extension": ".py",
   "mimetype": "text/x-python",
   "name": "python",
   "nbconvert_exporter": "python",
   "pygments_lexer": "ipython3",
   "version": "3.7.6"
  }
 },
 "nbformat": 4,
 "nbformat_minor": 4
}
